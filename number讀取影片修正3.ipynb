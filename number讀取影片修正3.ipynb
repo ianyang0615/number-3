{
 "cells": [
  {
   "cell_type": "code",
   "execution_count": 2,
   "metadata": {},
   "outputs": [
    {
     "name": "stdout",
     "output_type": "stream",
     "text": [
      "60000\n",
      "(28, 28)\n",
      "Epoch 1/5\n",
      "1875/1875 [==============================] - 6s 3ms/step - loss: 0.2905 - accuracy: 0.9165\n",
      "Epoch 2/5\n",
      "1875/1875 [==============================] - 4s 2ms/step - loss: 0.1399 - accuracy: 0.9586\n",
      "Epoch 3/5\n",
      "1875/1875 [==============================] - 4s 2ms/step - loss: 0.1054 - accuracy: 0.9675\n",
      "Epoch 4/5\n",
      "1875/1875 [==============================] - 4s 2ms/step - loss: 0.0843 - accuracy: 0.9741\n",
      "Epoch 5/5\n",
      "1875/1875 [==============================] - 5s 3ms/step - loss: 0.0744 - accuracy: 0.9765\n",
      "313/313 - 1s - loss: 0.0692 - accuracy: 0.9781\n"
     ]
    },
    {
     "data": {
      "text/plain": [
       "[0.06921397894620895, 0.9781000018119812]"
      ]
     },
     "execution_count": 2,
     "metadata": {},
     "output_type": "execute_result"
    }
   ],
   "source": [
    "import os\n",
    "import matplotlib.pyplot as plt\n",
    "import matplotlib.image as mpimg\n",
    "import numpy as np\n",
    "import PIL\n",
    "import cv2\n",
    "import time\n",
    "from keras.datasets import mnist\n",
    "from keras.models import load_model\n",
    "import tensorflow as tf\n",
    "\n",
    "#將MNIST 手寫數字資料讀進來\n",
    "mnist = tf.keras.datasets.mnist\n",
    "\n",
    "# mnist 的load_data()會回傳已經先分割好的training data 和 testing data\n",
    "# 並且將每個 pixel 的值從 Int 轉成 floating point 同時做normalize(這是很常見的preprocessing)\n",
    "(x_train, y_train), (x_test, y_test) = mnist.load_data()\n",
    "x_train, x_test = x_train / 255.0, x_test / 255.0\n",
    "\n",
    "print(len(x_train)) #training data 總共有60000張圖片\n",
    "print(x_train[0].shape) #每張圖片（拿第一張當樣本）大小為 28x28\n",
    "# 開始搭建model\n",
    "# 利用 \"Sequential\" 把每層 layer 疊起來\n",
    "\n",
    "# input 大小為 28 x 28\n",
    "\n",
    "# 最後的 Dense(10) 且 activation 用 softmax\n",
    "# 代表最後 output 為 10 個 class （0~9）的機率\n",
    "model = tf.keras.models.Sequential([\n",
    "  tf.keras.layers.Flatten(input_shape=(28, 28)),\n",
    "  tf.keras.layers.Dense(128, activation='relu'),\n",
    "  tf.keras.layers.Dropout(0.2),\n",
    "  tf.keras.layers.Dense(10, activation='softmax')\n",
    "])\n",
    "\n",
    "# model每層定義好後需要經過compile\n",
    "model.compile(optimizer='adam',\n",
    "              loss='sparse_categorical_crossentropy',\n",
    "              metrics=['accuracy'])\n",
    "\n",
    "model.fit(x_train, y_train, epochs=5)\n",
    "model.evaluate(x_test, y_test, verbose=2)"
   ]
  },
  {
   "cell_type": "code",
   "execution_count": 3,
   "metadata": {},
   "outputs": [
    {
     "name": "stdout",
     "output_type": "stream",
     "text": [
      "WARNING:tensorflow:From <ipython-input-3-a611ff2f7d97>:66: Sequential.predict_classes (from tensorflow.python.keras.engine.sequential) is deprecated and will be removed after 2021-01-01.\n",
      "Instructions for updating:\n",
      "Please use instead:* `np.argmax(model.predict(x), axis=-1)`,   if your model does multi-class classification   (e.g. if it uses a `softmax` last-layer activation).* `(model.predict(x) > 0.5).astype(\"int32\")`,   if your model does binary classification   (e.g. if it uses a `sigmoid` last-layer activation).\n",
      "It takes 5.691515 sec for each frame\n"
     ]
    },
    {
     "data": {
      "image/png": "[encoded data removed]",
      "text/plain": [
       "<Figure size 432x288 with 1 Axes>"
      ]
     },
     "metadata": {
      "needs_background": "light"
     },
     "output_type": "display_data"
    }
   ],
   "source": [
    "cap = cv2.VideoCapture(\"9.jpg\")#開啟相機\n",
    "\n",
    "while(True):\n",
    "    tStart = time.time() #計時開始\n",
    "    ret,frame = cap.read()#捕獲一幀影象\n",
    "    if ret:\n",
    "        cv2.imshow('frame',frame)\n",
    "        cv2.waitKey(0)\n",
    "    else:\n",
    "        break\n",
    "    img_2 = frame[200:220,230:260]\n",
    "    #img_11 = frame[50:68,101:113]\n",
    "    #img_12 = frame[50:68,114:126]\n",
    "    #img_13 = frame[50:68,127:139]\n",
    "    #img_14 = frame[50:68,140:152]\n",
    "    #img_15 = frame[50:68,321:334]\n",
    "    #img_16 = frame[50:68,335:347]\n",
    "    #img_17 = frame[50:68,348:360]\n",
    "    #img_18 = frame[50:68,374:386]\n",
    "    #img_19 = frame[50:68,387:399]\n",
    "    #img_20 = frame[50:68,464:476]\n",
    "    #img_21 = frame[50:68,477:489]\n",
    "    #img_22 = frame[50:68,490:502]\n",
    "    cv2.imshow('Camera',img_2)\n",
    "    #cv2.imshow('Camera11',img_11)\n",
    "    #cv2.imshow('Camera12',img_12)\n",
    "    #cv2.imshow('Camera13',img_13)\n",
    "    #cv2.imshow('Camera14',img_14)\n",
    "    #cv2.imshow('Camera15',img_15)\n",
    "    #cv2.imshow('Camera16',img_16)\n",
    "    #cv2.imshow('Camera17',img_17)\n",
    "    #cv2.imshow('Camera18',img_18)\n",
    "    #cv2.imshow('Camera19',img_19)\n",
    "    #cv2.imshow('Camera20',img_20)\n",
    "    #cv2.imshow('Camera21',img_21)\n",
    "    #cv2.imshow('Camera22',img_22)\n",
    "    \n",
    "    img_2_gray = cv2.cvtColor(img_2, cv2.COLOR_BGR2GRAY)\n",
    "    img_3 = 255-img_2_gray\n",
    "    img_3 = img_3.astype('float32')\n",
    "    img_3_min = np.amin(img_3)\n",
    "    img_4 = img_3 - np.amin(img_3)\n",
    "    img_5 = 255 * img_4 / (np.amax(img_4))\n",
    "    kernel = np.ones((5,5),np.uint8)\n",
    "    img_6 = cv2.erode(img_5,kernel,iterations = 0)\n",
    "    dilation = cv2.dilate(img_6, kernel, iterations = 0)\n",
    "    img_25 = cv2.resize(dilation,(480,480),1)\n",
    "    img_7 = cv2.resize(dilation,(28,28),1)\n",
    "    img_8 = img_25.astype('uint8')\n",
    "    plt.imshow(img_7)\n",
    "    cv2.imshow('input',img_8)\n",
    "    #print(img_2.shape)\n",
    "    #print(img_7.dtype, img_8.shape)\n",
    "\n",
    "    x_test_image = np.reshape(img_7, (1,28,28))\n",
    "    #print(img_7.dtype, img_7.shape)\n",
    "    #print(x_test_image.dtype, x_test_image.shape)\n",
    "    #print(np.amax(x_test_image))\n",
    "    #print(np.amin(x_test_image))\n",
    "\n",
    "    # convert 2-D 28x28 image to 4-D nx28x28x1  array\n",
    "    x_Test4D=x_test_image.reshape(x_test_image.shape[0],28,28,1).astype('float32')\n",
    "    # normalize the image numbers to 0~1\n",
    "    x_Test4D_normalize = (x_Test4D / np.amax(x_test_image))\n",
    "    #print(x_Test4D_normalize.shape)\n",
    "    prediction=model.predict_classes(x_Test4D_normalize)\n",
    "\n",
    "\n",
    "    filename = '%s%d%s' % ('./numbers/number_', prediction, '.jpg')\n",
    "    img_9 = cv2.imread(filename)\n",
    "    img_10 = cv2.resize(img_9,(480,480),1)\n",
    "    cv2.imshow('inference',img_10)\n",
    "    tEnd = time.time() #計時結束\n",
    "\n",
    "    if cv2.waitKey(0) & 0xFF == ord('q'):\n",
    "        cv2.imwrite('output.jpg', img_2)\n",
    "        break\n",
    "\n",
    "cap.release()\n",
    "cv2.destroyAllWindows()\n",
    "\n",
    "print('It takes %f sec for each frame' % (tEnd - tStart))"
   ]
  },
  {
   "cell_type": "code",
   "execution_count": null,
   "metadata": {},
   "outputs": [],
   "source": []
  },
  {
   "cell_type": "code",
   "execution_count": null,
   "metadata": {},
   "outputs": [],
   "source": []
  }
 ],
 "metadata": {
  "kernelspec": {
   "display_name": "Python 3",
   "language": "python",
   "name": "python3"
  },
  "language_info": {
   "codemirror_mode": {
    "name": "ipython",
    "version": 3
   },
   "file_extension": ".py",
   "mimetype": "text/x-python",
   "name": "python",
   "nbconvert_exporter": "python",
   "pygments_lexer": "ipython3",
   "version": "3.8.3"
  }
 },
 "nbformat": 4,
 "nbformat_minor": 4
}
